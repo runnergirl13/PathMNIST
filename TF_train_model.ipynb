{
 "cells": [
  {
   "cell_type": "code",
   "execution_count": null,
   "id": "5b021ca0",
   "metadata": {},
   "outputs": [],
   "source": [
    "from medmnist import PathMNIST\n",
    "import matplotlib.pyplot as plt\n",
    "\n",
    "import tensorflow as tf\n",
    "from tensorflow.keras import layers, models\n",
    "from tensorflow.keras.utils import to_categorical\n",
    "from tensorflow.keras.callbacks import EarlyStopping\n",
    "from tensorflow.keras.preprocessing.image import ImageDataGenerator\n",
    "\n",
    "from tensorflow.keras.applications import MobileNetV2, ResNet50\n",
    "\n",
    "import numpy as np\n",
    "\n",
    "import wandb\n",
    "from wandb.integration.keras import WandbCallback"
   ]
  },
  {
   "cell_type": "markdown",
   "id": "14ddb427",
   "metadata": {},
   "source": [
    "### Data preparation"
   ]
  },
  {
   "cell_type": "code",
   "execution_count": null,
   "id": "40ecc238",
   "metadata": {},
   "outputs": [],
   "source": [
    "train_dataset = PathMNIST(split=\"train\",  size=64)\n",
    "test_dataset = PathMNIST(split=\"test\",  size=64)\n",
    "val_dataset = PathMNIST(split=\"val\",  size=64)"
   ]
  },
  {
   "cell_type": "code",
   "execution_count": null,
   "id": "e9f08db9",
   "metadata": {},
   "outputs": [],
   "source": [
    "def prepare_data(dataset):\n",
    "    images = dataset.imgs / 255.0  \n",
    "    labels = to_categorical(dataset.labels, num_classes=9)\n",
    "    return images, labels\n",
    "\n",
    "def prepare_data_with_augmentation(dataset, num_classes=9, augment=True):\n",
    "    images = dataset.imgs / 255.0  \n",
    "    labels = to_categorical(dataset.labels, num_classes=num_classes)\n",
    "\n",
    "    if augment:\n",
    "        datagen = ImageDataGenerator(\n",
    "            rotation_range=15,        \n",
    "            width_shift_range=0.1,       \n",
    "            height_shift_range=0.1,   \n",
    "            shear_range=0.1,          \n",
    "            zoom_range=0.1,          \n",
    "            horizontal_flip=True,       \n",
    "            fill_mode='nearest'     \n",
    "        )\n",
    "\n",
    "        datagen.fit(images)\n",
    "        return datagen, images, labels\n",
    "    else:\n",
    "        return None, images, labels"
   ]
  },
  {
   "cell_type": "code",
   "execution_count": null,
   "id": "c7c75062",
   "metadata": {},
   "outputs": [],
   "source": [
    "datagen, X_train, y_train = prepare_data_with_augmentation(train_dataset)\n",
    "datagen, X_val, y_val = prepare_data_with_augmentation(val_dataset)\n",
    "datagen, X_test, y_test = prepare_data_with_augmentation(test_dataset)"
   ]
  },
  {
   "cell_type": "markdown",
   "id": "15d2085f",
   "metadata": {},
   "source": [
    "### Initializing Weights and Biases"
   ]
  },
  {
   "cell_type": "code",
   "execution_count": null,
   "id": "83f90b0d",
   "metadata": {},
   "outputs": [],
   "source": [
    "wandb.init(project=\"pathmnist-classification\", config={\n",
    "    \"epochs\": 50,  \n",
    "    \"batch_size\": 32,\n",
    "    \"learning_rate\": 0.001  \n",
    "})\n",
    "\n",
    "config = wandb.config"
   ]
  },
  {
   "cell_type": "markdown",
   "id": "a48470cc",
   "metadata": {},
   "source": [
    "### CNN Network Models"
   ]
  },
  {
   "cell_type": "code",
   "execution_count": null,
   "id": "a4242eee",
   "metadata": {},
   "outputs": [],
   "source": [
    "def base_model(input_shape=(64, 64, 3), num_classes=9):\n",
    "    model = models.Sequential([\n",
    "        layers.Conv2D(32, (3, 3), activation='relu', input_shape=input_shape),\n",
    "        layers.MaxPooling2D((2, 2)),\n",
    "        layers.Conv2D(64, (3, 3), activation='relu'),\n",
    "        layers.MaxPooling2D((2, 2)),\n",
    "        layers.Conv2D(128, (3, 3), activation='relu'),\n",
    "        layers.Flatten(),\n",
    "        layers.Dense(128, activation='relu'),\n",
    "        layers.Dropout(0.5),\n",
    "        layers.Dense(num_classes, activation='softmax')\n",
    "    ])\n",
    "    return model"
   ]
  },
  {
   "cell_type": "code",
   "execution_count": null,
   "id": "1386aa7b",
   "metadata": {},
   "outputs": [],
   "source": [
    "def model3(input_shape=(64, 64, 3), num_classes=9):\n",
    "    model = models.Sequential([\n",
    "\n",
    "        layers.Conv2D(32, (3, 3), activation='relu', input_shape=input_shape, padding='same'),\n",
    "        layers.BatchNormalization(),\n",
    "        layers.MaxPooling2D((2, 2)),\n",
    "\n",
    "        layers.Conv2D(64, (3, 3), activation='relu', padding='same'),\n",
    "        layers.BatchNormalization(),\n",
    "        layers.MaxPooling2D((2, 2)),\n",
    "\n",
    "        layers.Conv2D(128, (3, 3), activation='relu', padding='same'),\n",
    "        layers.BatchNormalization(),\n",
    "        layers.MaxPooling2D((2, 2)),\n",
    "\n",
    "        layers.Conv2D(256, (3, 3), activation='relu', padding='same'),\n",
    "        layers.BatchNormalization(),\n",
    "        layers.MaxPooling2D((2, 2)),\n",
    "\n",
    "        layers.GlobalAveragePooling2D(),\n",
    "        \n",
    "        layers.Dense(512, activation='relu', kernel_regularizer='l2'),\n",
    "        layers.Dropout(0.5), \n",
    "\n",
    "        layers.Dense(num_classes, activation='softmax')\n",
    "    ])\n",
    "    return model"
   ]
  },
  {
   "cell_type": "code",
   "execution_count": null,
   "id": "fe1e7deb",
   "metadata": {},
   "outputs": [],
   "source": [
    "def TL_MobileNetV2(input_shape=(64, 64, 3), num_classes=9):\n",
    "    base_model = MobileNetV2(weights='imagenet', include_top=False, input_shape=input_shape)\n",
    "    base_model.trainable = False  \n",
    "\n",
    "    model = models.Sequential([\n",
    "        base_model,  \n",
    "\n",
    "        layers.GlobalAveragePooling2D(),\n",
    "\n",
    "        layers.Dense(256, activation='relu', kernel_regularizer='l2'),\n",
    "        layers.Dropout(0.5), \n",
    "\n",
    "        layers.Dense(num_classes, activation='softmax')\n",
    "    ])\n",
    "\n",
    "    return model"
   ]
  },
  {
   "cell_type": "code",
   "execution_count": null,
   "id": "8d671c97",
   "metadata": {},
   "outputs": [],
   "source": [
    "def TL_ResNet50(input_shape=(64, 64, 3), num_classes=9):\n",
    "  \n",
    "    base_model = ResNet50(weights='imagenet', include_top=False, input_shape=input_shape)\n",
    "    base_model.trainable = False\n",
    "\n",
    "    model = models.Sequential([\n",
    "        base_model,\n",
    "\n",
    "        layers.GlobalAveragePooling2D(),\n",
    "\n",
    "        layers.Dense(256, activation='relu', kernel_regularizer='l2'),\n",
    "        layers.Dropout(0.5),  \n",
    "\n",
    "        layers.Dense(num_classes, activation='softmax')\n",
    "    ])\n",
    "\n",
    "    return model"
   ]
  },
  {
   "cell_type": "markdown",
   "id": "2559ecf6",
   "metadata": {},
   "source": [
    "### Initialization of the model, optimizer and loss function"
   ]
  },
  {
   "cell_type": "code",
   "execution_count": null,
   "id": "77e2ef90",
   "metadata": {},
   "outputs": [],
   "source": [
    "model = model3()\n",
    "model.compile(optimizer=tf.keras.optimizers.Adam(learning_rate=config.learning_rate),\n",
    "              loss='categorical_crossentropy',\n",
    "              metrics=['accuracy'])"
   ]
  },
  {
   "cell_type": "code",
   "execution_count": null,
   "id": "32a08e17",
   "metadata": {},
   "outputs": [],
   "source": [
    "early_stopping = EarlyStopping(\n",
    "    monitor='val_loss', \n",
    "    patience=5, \n",
    "    restore_best_weights=True "
   ]
  },
  {
   "cell_type": "markdown",
   "id": "1ef62c90",
   "metadata": {},
   "source": [
    "### Model training"
   ]
  },
  {
   "cell_type": "code",
   "execution_count": null,
   "id": "01f16ab4",
   "metadata": {},
   "outputs": [],
   "source": [
    "history = model.fit(\n",
    "    X_train, y_train,\n",
    "    epochs=config.epochs,\n",
    "    batch_size=config.batch_size,\n",
    "    validation_data=(X_val, y_val),\n",
    "    callbacks=[WandbCallback(), early_stopping],\n",
    "    verbose=1\n",
    ")"
   ]
  },
  {
   "cell_type": "code",
   "execution_count": null,
   "id": "c7c092a8",
   "metadata": {},
   "outputs": [],
   "source": [
    "def plot_training(history):\n",
    "    \n",
    "    plt.figure(figsize=(12, 6))\n",
    "    plt.plot(history.history['loss'], label='Loss')\n",
    "    plt.plot(history.history['val_loss'], label='Validation Loss')\n",
    "    plt.title('Training and Validation Loss')\n",
    "    plt.xlabel('Epochs')\n",
    "    plt.ylabel('Loss')\n",
    "    plt.legend()\n",
    "    plt.grid(True)\n",
    "    plt.show()\n",
    "\n",
    "\n",
    "    plt.figure(figsize=(12, 6))\n",
    "    plt.plot(history.history['accuracy'], label='Accuracy')\n",
    "    plt.plot(history.history['val_accuracy'], label='Validation Accuracy')\n",
    "    plt.title('Training and Validation Accuracy')\n",
    "    plt.xlabel('Epochs')\n",
    "    plt.ylabel('Accuracy')\n",
    "    plt.legend()\n",
    "    plt.grid(True)\n",
    "    plt.show()"
   ]
  },
  {
   "cell_type": "code",
   "execution_count": null,
   "id": "22c655f4",
   "metadata": {},
   "outputs": [],
   "source": [
    "test_loss, test_acc = model.evaluate(X_test, y_test, verbose=2)\n",
    "print(f\"Test accuracy: {test_acc:.2f}\")"
   ]
  },
  {
   "cell_type": "markdown",
   "id": "4907151f",
   "metadata": {},
   "source": [
    "### Saving model and disconnect Weights & Biases"
   ]
  },
  {
   "cell_type": "code",
   "execution_count": null,
   "id": "18061ce9",
   "metadata": {},
   "outputs": [],
   "source": [
    "model.save('model_III.h5')\n",
    "wandb.finish()"
   ]
  }
 ],
 "metadata": {
  "kernelspec": {
   "display_name": "Python 3 (ipykernel)",
   "language": "python",
   "name": "python3"
  },
  "language_info": {
   "codemirror_mode": {
    "name": "ipython",
    "version": 3
   },
   "file_extension": ".py",
   "mimetype": "text/x-python",
   "name": "python",
   "nbconvert_exporter": "python",
   "pygments_lexer": "ipython3",
   "version": "3.10.9"
  }
 },
 "nbformat": 4,
 "nbformat_minor": 5
}
